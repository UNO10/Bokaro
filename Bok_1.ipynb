{
 "cells": [
  {
   "cell_type": "code",
   "execution_count": null,
   "source": [
    "import pandas as pd\r\n",
    "import matplotlib.pyplot as plt\r\n",
    "import mplcursors\r\n",
    "import plotly.express as px\r\n",
    "import plotly.io as pio \r\n",
    "import plotly.offline as pyo\r\n",
    "import plotly.graph_objects as go\r\n"
   ],
   "outputs": [],
   "metadata": {}
  },
  {
   "cell_type": "code",
   "execution_count": null,
   "source": [
    "df = pd.read_csv(\"Bokaro_1.txt\")\r\n",
    "\r\n",
    "\r\n",
    "df3 = pd.read_csv(\"Bokaro_1.txt\")\r\n",
    "df3['Time'] = df3['Time'].astype('datetime64[ns]')\r\n",
    "\r\n",
    "df['Time'] = df['Time'].astype('datetime64[ns]')\r\n",
    "df['Time'] = df['Time'].dt.time\r\n",
    "\r\n",
    "df1 = df.head(100000)\r\n",
    "df2 = df\r\n",
    "\r\n",
    "# df1['Time'] = df1['Time'].astype('datetime64[ns]')\r\n",
    "# df1['Hour'] = df1['Time'].dt.hour\r\n",
    "# df1['Hour'].dtype\r\n",
    "df1['Time'] = df1['Time'].astype('string')\r\n",
    "# df['Time'].nunique\r\n",
    "df = df.set_index('Time')\r\n",
    "df3\r\n",
    "# df1['Time'].dtype"
   ],
   "outputs": [],
   "metadata": {}
  },
  {
   "cell_type": "code",
   "execution_count": null,
   "source": [
    "pos_min = df['TAP_POS'].min()\r\n",
    "pos_max = df['TAP_POS'].max()\r\n",
    "\r\n",
    "vtg_min = df['SEC_VTG_E1'].min()\r\n",
    "vtg_max = df['SEC_VTG_E1'].max()\r\n",
    "\r\n",
    "cur_min = df['SEC_CUR_E1'].min()\r\n",
    "cur_max = df['SEC_CUR_E1'].max()\r\n",
    "\r\n",
    "print('pos_min = ',  pos_min ,', pos_max = ' , pos_max , ', vtg_min = ', vtg_min ,', vtg_max = ' ,vtg_max, ', cur_min = ', cur_min, ', cur_max = ', cur_max)"
   ],
   "outputs": [],
   "metadata": {}
  },
  {
   "cell_type": "code",
   "execution_count": null,
   "source": [
    "# %matplotlib widget\r\n",
    "# df.plot( y =['TAP_POS','SEC_VTG_E1','SEC_CUR_E1'], kind = 'line', figsize=(10,4), \r\n",
    "#             color = {\"TAP_POS\": \"r\", \"SEC_VTG_E1\": \"c\",\"SEC_CUR_E1\": \"m\"}, )\r\n",
    "# mplcursors.cursor(hover = True)"
   ],
   "outputs": [],
   "metadata": {}
  },
  {
   "cell_type": "code",
   "execution_count": null,
   "source": [
    "# fig = px.line(df1, x=\"Time\", y =['TAP_POS','SEC_VTG_E1','SEC_CUR_E1']) \r\n",
    "\r\n",
    "# fig.update_layout(template='plotly_white')\r\n",
    "# fig.update_layout(title='Bokaro Beckhoff')\r\n",
    "# fig.update_layout(hovermode='x unified')\r\n",
    "# fig.update_xaxes(\r\n",
    "#     rangeslider_visible=True,\r\n",
    "#     rangeselector=dict(\r\n",
    "#         buttons=list([\r\n",
    "#             dict(count=1, label=\"1 Second\", step=\"second\", stepmode=\"backward\"),\r\n",
    "#             dict(count=1, label=\"1 Minute\", step=\"minute\", stepmode=\"backward\"),\r\n",
    "#             dict(count=1, label=\"1 Hour\", step=\"hour\", stepmode=\"backward\"),\r\n",
    "#             dict(count=3, label=\"3 Hour\", step=\"hour\", stepmode=\"backward\"),\r\n",
    "#             dict(step=\"all\")\r\n",
    "#             ])\r\n",
    "#     ),\r\n",
    "#     # rangeslider=dict(visible=True),        \r\n",
    "#     # type = 'date'\r\n",
    "# )\r\n",
    "# fig.show()"
   ],
   "outputs": [],
   "metadata": {}
  },
  {
   "cell_type": "code",
   "execution_count": null,
   "source": [
    "pyo.init_notebook_mode()\r\n",
    "fig = go.Figure()\r\n",
    "\r\n",
    "\r\n",
    "fig.add_trace(go.Scatter(x= list(df3.Time), y= (df3.SEC_VTG_E1), mode='lines', name = 'SEC_VTG_E1', marker_color = \"darkblue\", yaxis = 'y1' ))\r\n",
    "fig.add_trace(go.Scatter(x= list(df3.Time), y= (df3.SEC_CUR_E1), mode='lines', opacity=0.8, name = 'SEC_CUR_E1', marker_color = \"crimson\", yaxis = 'y2' ))\r\n",
    "fig.add_trace(go.Scatter(x= list(df3.Time), y= (df3.TAP_POS), mode='lines', name = 'TAP_POS', yaxis = 'y3', marker_color=\"gold\" ))\r\n",
    "\r\n",
    "# fig.add_trace(go.Scatter(x= list(df1.Time), y= (df1.SEC_VTG_E1), name = 'SEC_VTG_E1', yaxis = 'y1' ))\r\n",
    "# fig.add_trace(go.Scatter(x= list(df1.Time), y= (df1.SEC_CUR_E1), name = 'SEC_CUR_E1', yaxis = 'y2' ))\r\n",
    "# fig.add_trace(go.Scatter(x= list(df1.Time), y= (df1.TAP_POS), name = 'TAP_POS',yaxis = 'y3' ))\r\n",
    "\r\n",
    "\r\n",
    "# fig.add_trace(go.Scatter(x=[1, 2, 3], y=[4, 5, 6] ))\r\n",
    "            # x=\"Time\", y =['TAP_POS','SEC_VTG_E1','SEC_CUR_E1']))\r\n",
    "#           ,animation_frame = 'Time')\r\n",
    "# fig.update_layout(\r\n",
    "#         'yaxis': {'title': 'SF Zoo axis'},\r\n",
    "#         'yaxis2': {'title': 'LA Zoo axis', 'overlaying': 'y', 'side': 'right'})\r\n",
    "\r\n",
    "fig.update_layout(template='plotly_white')\r\n",
    "fig.update_layout(title_text ='Bokaro Beckhoff')\r\n",
    "fig.update_layout(hovermode='x unified')\r\n",
    "fig.update_xaxes(rangeslider_visible=True)\r\n",
    "\r\n",
    "fig.update_layout(xaxis = dict(domain = [0.11, 1]))\r\n",
    "\r\n",
    "# fig.update_layout(yaxis = dict(range=[-10,450], title = 'SEC_VTG_E1', titlefont=dict(color=\"red\"), tickfont=dict(color=\"red\")), \r\n",
    "#                 yaxis2 = dict(range=[-10,75], title = 'SEC_CUR_E1', titlefont=dict(color=\"green\"),tickfont=dict(color=\"green\"), anchor=\"free\",overlaying=\"y1\", side=\"left\", position=0.15),\r\n",
    "#                 yaxis3 = dict(range=[0,20], title = 'TAP_POS', titlefont=dict(color=\"blue\"),tickfont=dict(color=\"blue\"), anchor=\"free\",overlaying=\"y1\", side=\"left\", position=0.15))\r\n",
    "\r\n",
    "fig.update_layout(yaxis = dict(range=[-10,450], tickmode = 'linear', tick0 = 0, dtick = 25, tickfont=dict(color = \"darkblue\"), anchor=\"free\",overlaying=\"y3\", side=\"left\", position=0.084), \r\n",
    "                yaxis2 = dict(range=[-10,75], tickmode = 'linear', tick0 = 0, dtick = 5 ,tickfont=dict(color = \"crimson\"), anchor=\"free\",overlaying=\"y3\", side=\"left\", position=0.05),\r\n",
    "                yaxis3 = dict(range=[0,20], tickmode = 'linear', tick0 = 0, dtick = 1, tickfont=dict(color=\"gold\")))\r\n",
    "\r\n",
    "fig.update_xaxes(\r\n",
    "rangeslider_visible=True,\r\n",
    "    rangeselector=dict(\r\n",
    "        buttons=list([\r\n",
    "            dict(count=1, label=\"1s\", step=\"second\", stepmode=\"backward\"),\r\n",
    "            dict(count=10, label=\"10s\", step=\"second\", stepmode=\"backward\"),\r\n",
    "            dict(count=30, label=\"30s\", step=\"second\", stepmode=\"backward\"),\r\n",
    "\r\n",
    "            dict(count=1, label=\"1 Min\", step=\"minute\", stepmode=\"backward\"),\r\n",
    "            dict(count=15, label=\"15 Min\", step=\"minute\", stepmode=\"backward\"),\r\n",
    "            dict(count=30, label=\"30 Min\", step=\"minute\", stepmode=\"backward\"),\r\n",
    "            dict(count=45, label=\"45 Min\", step=\"minute\", stepmode=\"backward\"),\r\n",
    "\r\n",
    "            dict(count=1, label=\"1 Hr\", step=\"hour\", stepmode=\"backward\"),\r\n",
    "            dict(count=2, label=\"2 Hrs\", step=\"hour\", stepmode=\"backward\"),\r\n",
    "            dict(count=3, label=\"3 Hrs\", step=\"hour\", stepmode=\"backward\"),\r\n",
    "            dict(count=4, label=\"4 Hrs\", step=\"hour\", stepmode=\"backward\"),\r\n",
    "            dict(count=5, label=\"5 Hrs\", step=\"hour\", stepmode=\"backward\"),\r\n",
    "            dict(count=6, label=\"6 Hrs\", step=\"hour\", stepmode=\"backward\"),\r\n",
    "            dict(count=7, label=\"7 Hrs\", step=\"hour\", stepmode=\"backward\"),\r\n",
    "            dict(count=8, label=\"8 Hrs\", step=\"hour\", stepmode=\"backward\"),\r\n",
    "            dict(count=9, label=\"9 Hrs\", step=\"hour\", stepmode=\"backward\"),\r\n",
    "            dict(count=10, label=\"10 Hrs\", step=\"hour\", stepmode=\"backward\"),\r\n",
    "            dict(count=11, label=\"11 Hrs\", step=\"hour\", stepmode=\"backward\"),\r\n",
    "            dict(count=12, label=\"12 Hrs\", step=\"hour\", stepmode=\"backward\"),\r\n",
    "            dict(step=\"all\")\r\n",
    "            ])\r\n",
    "    ),\r\n",
    "\r\n",
    "    rangeslider=dict(visible=True),        \r\n",
    "    type = 'date'\r\n",
    "\r\n",
    ")\r\n",
    "\r\n",
    "pyo.iplot(fig, filename = 'basic-line')\r\n",
    "# fig.show()"
   ],
   "outputs": [],
   "metadata": {}
  },
  {
   "cell_type": "code",
   "execution_count": null,
   "source": [
    "pio.write_html(fig, file='Bokaro Beckhoff.html', include_plotlyjs=\"cdn\", auto_open=True)"
   ],
   "outputs": [],
   "metadata": {}
  },
  {
   "cell_type": "code",
   "execution_count": null,
   "source": [
    "fig.write_html(\"output.html\",\r\n",
    "               include_plotlyjs=\"cdn\")"
   ],
   "outputs": [],
   "metadata": {}
  },
  {
   "cell_type": "code",
   "execution_count": null,
   "source": [
    "# layout['yaxis1'] = {'title': 'Actual Gen, Storage, Solar Gen', 'titlefont': {'color': 'orange'}, 'tickfont': {'color': 'orange'}}\r\n",
    "# layout['yaxis2'] = {'title': 'Total Gen', 'side': 'left', 'overlaying': 'y', 'anchor': 'free', 'titlefont': {'color': 'red'}, 'tickfont': {'color': 'red'}}\r\n",
    "# layout['yaxis3'] = {'title': 'Frequency', 'side': 'right', 'overlaying': 'y', 'anchor': 'x', 'titlefont': {'color': 'purple'}, 'tickfont': {'color': 'purple'}}\r\n",
    "    "
   ],
   "outputs": [],
   "metadata": {}
  },
  {
   "cell_type": "code",
   "execution_count": null,
   "source": [
    "# fig, ax = plt.subplots(figsize = (40,20))\r\n",
    "\r\n",
    "# ax.plot(df_test.TAP_POS)\r\n",
    "# ax.plot(df_test.SEC_VTG_E1)\r\n",
    "# ax.plot(df_test.SEC_CUR_E1)\r\n",
    "# fig.autofmt_xdate()"
   ],
   "outputs": [],
   "metadata": {}
  }
 ],
 "metadata": {
  "orig_nbformat": 4,
  "language_info": {
   "name": "python",
   "version": "3.9.6",
   "mimetype": "text/x-python",
   "codemirror_mode": {
    "name": "ipython",
    "version": 3
   },
   "pygments_lexer": "ipython3",
   "nbconvert_exporter": "python",
   "file_extension": ".py"
  },
  "kernelspec": {
   "name": "python3",
   "display_name": "Python 3.9.6 64-bit"
  },
  "interpreter": {
   "hash": "77d37da120c507af9235d9511dbb9eaebad0ef1968efc325de69203e63f755d4"
  }
 },
 "nbformat": 4,
 "nbformat_minor": 2
}